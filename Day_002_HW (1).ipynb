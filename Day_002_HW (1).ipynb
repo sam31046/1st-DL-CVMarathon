{
 "cells": [
  {
   "cell_type": "markdown",
   "metadata": {},
   "source": [
    "## [作業目標]\n",
    "了解機器學習適合應用的領域與範疇。"
   ]
  },
  {
   "cell_type": "markdown",
   "metadata": {},
   "source": [
    "## [作業重點]\n",
    "透過瞭解機器學習的運作方式，找出非常適用機器學習應用的領域及其原因"
   ]
  },
  {
   "cell_type": "markdown",
   "metadata": {},
   "source": [
    "## 作業\n",
    "請找出一個你認為機器學習可以發光發熱的領域並闡述原因? "
   ]
  },
  {
   "cell_type": "code",
   "execution_count": null,
   "metadata": {},
   "outputs": [],
   "source": [
    "農作物蔬果使用光學、影像辨識，可分類作物種類、品質、病蟲害分佈情形，並結合氣象預報、溫濕度、季節、農地面積、土壤種類、作物市價、法規限制等相關數據，計算出能讓農民獲得最佳收益之作物栽種比例與位置，並將數據結合GIS平台上傳農委會避免作物過剩，即時更新各地農民申報情況；因為農委會無法準確與即時更新各地、各季節農民栽種之情況，農民會因為季節轉換而休耕或種植其他作物，目前仰賴農業工程研究中心之同仁現地調查，並非長久之計。"
   ]
  }
 ],
 "metadata": {
  "kernelspec": {
   "display_name": "Python 3",
   "language": "python",
   "name": "python3"
  },
  "language_info": {
   "codemirror_mode": {
    "name": "ipython",
    "version": 3
   },
   "file_extension": ".py",
   "mimetype": "text/x-python",
   "name": "python",
   "nbconvert_exporter": "python",
   "pygments_lexer": "ipython3",
   "version": "3.7.4"
  }
 },
 "nbformat": 4,
 "nbformat_minor": 2
}
